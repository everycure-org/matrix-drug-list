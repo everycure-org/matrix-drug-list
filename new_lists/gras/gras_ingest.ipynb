{
 "cells": [
  {
   "cell_type": "code",
   "execution_count": 44,
   "id": "b824490c-908e-4690-87f8-02dc7c914512",
   "metadata": {},
   "outputs": [
    {
     "name": "stderr",
     "output_type": "stream",
     "text": [
      " 60%|████████████████████████▋                | 535/888 [08:01<02:16,  2.59it/s]"
     ]
    },
    {
     "name": "stdout",
     "output_type": "stream",
     "text": [
      "name resolver error for   Algal fat derived from <I>Prototheca moriformis</I> (S7737)\n"
     ]
    },
    {
     "name": "stderr",
     "output_type": "stream",
     "text": [
      " 98%|████████████████████████████████████████▎| 872/888 [12:50<00:06,  2.65it/s]"
     ]
    },
    {
     "name": "stdout",
     "output_type": "stream",
     "text": [
      "name resolver error for   Anaerobutyricum soehngenii CH106\n"
     ]
    },
    {
     "name": "stderr",
     "output_type": "stream",
     "text": [
      "100%|█████████████████████████████████████████| 888/888 [12:59<00:00,  1.14it/s]\n"
     ]
    }
   ],
   "source": [
    "import pandas as pd\n",
    "import numpy as np\n",
    "import difflib as dl\n",
    "import re\n",
    "import requests\n",
    "from io import StringIO\n",
    "from tqdm import tqdm\n",
    "\n",
    "\n",
    "def getCurie(name):\n",
    "    try:\n",
    "        itemRequest = 'https://name-resolution-sri.renci.org/lookup?string=' + name + '&autocomplete=false&offset=0&limit=10&biolink_type=ChemicalOrDrugOrTreatment'\n",
    "        returned = (pd.read_json(StringIO(requests.get(itemRequest).text)))\n",
    "        resolvedName = returned.curie\n",
    "        resolvedLabel = returned.label\n",
    "        return resolvedName, resolvedLabel\n",
    "    except:\n",
    "        print(\"name resolver error for \", name)\n",
    "        return [\"Error\"], [\"Error\"]\n",
    "\n",
    "grasData = pd.read_csv(\"GRASNotices.csv\", skiprows=[0,1], encoding='latin-1')\n",
    "Opinions = grasData[\"FDA\\'s Letter\"]\n",
    "indices = list('FDA has no questions' in i for i in Opinions)\n",
    "approved_gras_substances = grasData[indices]\n",
    "substanceList = approved_gras_substances['Substance']\n",
    "\n",
    "\n",
    "approved_usa = []\n",
    "available_usa = []\n",
    "curie = []\n",
    "label = []\n",
    "therapy_name = []\n",
    "\n",
    "for i in tqdm(substanceList, total=len(substanceList)):\n",
    "    i = i.replace(\"<i>\", \"\").replace(\"</i>\", \"\")\n",
    "    therapy_name.append(i)\n",
    "    approved_usa.append(\"True\")\n",
    "    available_usa.append(\"GRAS\")\n",
    "    curies, labels = getCurie(i)\n",
    "    curie.append(curies[0])\n",
    "    label.append(labels[0])\n",
    "\n",
    "data = pd.DataFrame({\n",
    "    \"therapy_name\":therapy_name,\n",
    "    \"approved_usa\":approved_usa,\n",
    "    \"available_usa\":available_usa,\n",
    "    \"Single ID\": curie,\n",
    "    \"ID Label\": label\n",
    "})\n",
    "\n",
    "data.to_excel(\"gras_list.xlsx\")\n",
    "\n",
    "\n"
   ]
  },
  {
   "cell_type": "code",
   "execution_count": 45,
   "id": "29a5e1bd-571d-4c5b-ade5-33ef76c81186",
   "metadata": {},
   "outputs": [
    {
     "name": "stdout",
     "output_type": "stream",
     "text": [
      "                                          therapy_name approved_usa  \\\n",
      "0     Solin oil (low linolenic acid flaxseed oil or...         True   \n",
      "1                                     Sodium bisulfate         True   \n",
      "2     Transglutaminase from Streptoverticillium mob...         True   \n",
      "3                        Dioctyl sodium sulfosuccinate         True   \n",
      "4     Pectin esterase derived from Aspergillus oryz...         True   \n",
      "..                                                 ...          ...   \n",
      "883          Pea protein fermented by shiitake mycelia         True   \n",
      "884                                     Monoglycerides         True   \n",
      "885                         Hydrolyzed poultry protein         True   \n",
      "886   Nuclease enzyme preparation produced by Bacil...         True   \n",
      "887   Chitosan and beta-1,3-glucans from white butt...         True   \n",
      "\n",
      "    available_usa                  Single ID  \\\n",
      "0            GRAS           DRUGBANK:DB11357   \n",
      "1            GRAS              UMLS:C0889164   \n",
      "2            GRAS               RXCUI:804623   \n",
      "3            GRAS                 CHEBI:9180   \n",
      "4            GRAS           DRUGBANK:DB11158   \n",
      "..            ...                        ...   \n",
      "883          GRAS           DRUGBANK:DB10551   \n",
      "884          GRAS  PUBCHEM.COMPOUND:13341681   \n",
      "885          GRAS                CHEBI:85266   \n",
      "886          GRAS   PUBCHEM.COMPOUND:1151802   \n",
      "887          GRAS           DRUGBANK:DB10544   \n",
      "\n",
      "                                              ID Label  \n",
      "0                                          Linseed oil  \n",
      "1                         sodium bisulfate monohydrate  \n",
      "2             Cepacol Sore Throat from Post Nasal Drip  \n",
      "3                                    SODIUM SALICYLATE  \n",
      "4                                               Pectin  \n",
      "..                                                 ...  \n",
      "883                                                Pea  \n",
      "884                        Diacetylated monoglycerides  \n",
      "885                                      AMPROLIUM ION  \n",
      "886  alpha-Acetolactate decarboxylase (enzyme prepa...  \n",
      "887                                Cultivated mushroom  \n",
      "\n",
      "[888 rows x 5 columns]\n"
     ]
    }
   ],
   "source": [
    "print(data)"
   ]
  },
  {
   "cell_type": "code",
   "execution_count": 46,
   "id": "ce0f3cc7-04bb-4bb5-bde5-fe5c892b5baa",
   "metadata": {},
   "outputs": [],
   "source": [
    "data.to_excel(\"gras_list.xlsx\")"
   ]
  },
  {
   "cell_type": "code",
   "execution_count": null,
   "id": "12c0148e-4220-40ec-b20d-a32ada3fd82f",
   "metadata": {},
   "outputs": [],
   "source": []
  }
 ],
 "metadata": {
  "kernelspec": {
   "display_name": "Python 3 (ipykernel)",
   "language": "python",
   "name": "python3"
  },
  "language_info": {
   "codemirror_mode": {
    "name": "ipython",
    "version": 3
   },
   "file_extension": ".py",
   "mimetype": "text/x-python",
   "name": "python",
   "nbconvert_exporter": "python",
   "pygments_lexer": "ipython3",
   "version": "3.11.9"
  }
 },
 "nbformat": 4,
 "nbformat_minor": 5
}
