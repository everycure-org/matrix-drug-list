{
 "cells": [
  {
   "cell_type": "code",
   "execution_count": 14,
   "id": "6094840b-06b7-48f3-9dec-796bc2df8ed4",
   "metadata": {},
   "outputs": [
    {
     "name": "stdout",
     "output_type": "stream",
     "text": [
      "586  combination therapeutics.\n",
      "2065  single-ingredient therapeutics.\n",
      "splitting combination therapies (currently  2065  items in list)\n",
      "2651 single-component therapies after splitting\n",
      "2651  total therapies after splitting\n",
      "Removing excluded therapies\n",
      "2508  total therapies after exclusions\n"
     ]
    }
   ],
   "source": [
    "import pandas as pd\n",
    "pd.options.mode.chained_assignment = None  #default='warn'\n",
    "import numpy as np\n",
    "import difflib as dl\n",
    "import psycopg2 as pg\n",
    "import re\n",
    "import requests\n",
    "from io import StringIO\n",
    "\n",
    "def getCombinationTherapiesAndSingleTherapiesLists(orangebook, exclusions):\n",
    "    obCombinationTherapies = []\n",
    "    obSingleTherapies = []\n",
    "    ingredientList = set(list(orangebook.Ingredient))\n",
    "    for item in ingredientList:\n",
    "        if (\";\" in item) or (\" AND \" in item) or (\"W/\" in item):\n",
    "            obCombinationTherapies.append(item)\n",
    "        else:\n",
    "            obSingleTherapies.append(item.strip())\n",
    "    return obCombinationTherapies, obSingleTherapies\n",
    "\n",
    "orangebook = pd.read_csv(\"products.txt\", delimiter=\"~\")\n",
    "splitExclusions = set(list(pd.read_excel(\"fda_ob_split_exclusions.xlsx\")['name']))\n",
    "obCombinationTherapies, obSingleTherapies = getCombinationTherapiesAndSingleTherapiesLists(orangebook, splitExclusions)\n",
    "print(len(set(obCombinationTherapies)), \" combination therapeutics.\")\n",
    "print(len(set(obSingleTherapies)), \" single-ingredient therapeutics.\")\n",
    "obSingleSet = set(obSingleTherapies)\n",
    "print(\"splitting combination therapies (currently \", len(obSingleSet), \" items in list)\")\n",
    "\n",
    "for item in obCombinationTherapies:\n",
    "    ingList = re.split(' ; | AND | W/ ', item)\n",
    "    for i in ingList:\n",
    "        if i not in obSingleSet:\n",
    "            obSingleTherapies.append(i.strip())\n",
    "            \n",
    "print(len(set(obSingleTherapies)), \"single-component therapies after splitting\")\n",
    "print(len(set(obSingleTherapies + obCombinationTherapies)), \" total therapies after splitting\")\n",
    "\n",
    "print(\"Removing excluded therapies\")\n",
    "exclusions = pd.read_excel('fda_exclusions.xlsx')['name']\n",
    "drugList = set(obSingleTherapies  + obCombinationTherapies).difference(exclusions)\n",
    "print(len(drugList), \" total therapies after exclusions\")\n",
    "sheetData = pd.DataFrame(data=[drugList]).transpose()\n",
    "sheetData.columns = ['Drug Name']\n",
    "sheetData.to_excel(\"fda_ob_list.xlsx\")"
   ]
  },
  {
   "cell_type": "code",
   "execution_count": null,
   "id": "75a88431-5448-473e-8755-ef733ee640ce",
   "metadata": {},
   "outputs": [],
   "source": []
  }
 ],
 "metadata": {
  "kernelspec": {
   "display_name": "Python 3 (ipykernel)",
   "language": "python",
   "name": "python3"
  },
  "language_info": {
   "codemirror_mode": {
    "name": "ipython",
    "version": 3
   },
   "file_extension": ".py",
   "mimetype": "text/x-python",
   "name": "python",
   "nbconvert_exporter": "python",
   "pygments_lexer": "ipython3",
   "version": "3.11.8"
  }
 },
 "nbformat": 4,
 "nbformat_minor": 5
}
