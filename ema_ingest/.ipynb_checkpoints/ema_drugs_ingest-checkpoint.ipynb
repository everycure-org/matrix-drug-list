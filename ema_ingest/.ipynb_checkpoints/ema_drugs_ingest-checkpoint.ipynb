{
 "cells": [
  {
   "cell_type": "code",
   "execution_count": 55,
   "id": "6261cf11-9353-4e94-ad67-4041ab671dea",
   "metadata": {},
   "outputs": [
    {
     "name": "stdout",
     "output_type": "stream",
     "text": [
      "Ingesting EMA list\n",
      "Splitting combination therapies (currently  786 unique compounds in list)\n",
      "893 single-component therapies after splitting\n",
      "1009  total therapies after splitting\n",
      "Removing excluded therapies\n",
      "994  total therapies after exclusions\n"
     ]
    }
   ],
   "source": [
    "import os\n",
    "import pandas as pd\n",
    "import time\n",
    "import math\n",
    "import re\n",
    "\n",
    "def getCombinationTherapiesAndSingleTherapiesEMA(emaList, exclusions):\n",
    "    emaCombinationTherapies = []\n",
    "    emaSingleTherapies = []\n",
    "    for item in emaList:\n",
    "        if type(item)!=float and ((\",\" in item) or (\"/\" in item) or (\"AND\" in item)) and item not in exclusions:\n",
    "            emaCombinationTherapies.append(item)\n",
    "        else:\n",
    "            emaSingleTherapies.append(item)\n",
    "    return emaCombinationTherapies, emaSingleTherapies\n",
    "\n",
    "print(\"Ingesting EMA list\")\n",
    "\n",
    "ema = pd.read_excel(\"EPAR_table_4.xlsx\",skiprows=[0,1,2,3,4,5,6,7])\n",
    "humanDrugs = ema[ema.Category=='Human']\n",
    "approvedDrugs = humanDrugs[humanDrugs['Authorisation status']=='Authorised']\n",
    "drugnames = list(approvedDrugs['International non-proprietary name (INN) / common name'])\n",
    "\n",
    "for idx, name in enumerate(drugnames):\n",
    "    try:\n",
    "        drugnames[idx] = name.upper().replace('\\n','').replace('\\r','')\n",
    "    except:\n",
    "        drugnames[idx] = drugnames[idx]\n",
    "\n",
    "splitExclusions = set(list(pd.read_excel(\"ema_split_exclusions.xlsx\")['name']))\n",
    "emaCombinationTherapies, emaSingleTherapies = getCombinationTherapiesAndSingleTherapiesEMA(drugnames, splitExclusions)\n",
    "emaSingleSet = list(set(emaSingleTherapies))\n",
    "print(\"Splitting combination therapies (currently \", len(emaSingleSet), \"unique compounds in list)\")\n",
    "\n",
    "for item in emaCombinationTherapies:\n",
    "    ingList = re.split(', | / | AND', item).strip()\n",
    "    for i in ingList:\n",
    "        if i not in emaSingleSet:\n",
    "            emaSingleTherapies.append(i)\n",
    "\n",
    "print(len(set(emaSingleTherapies)), \"single-component therapies after splitting\")\n",
    "print(len(set(emaSingleTherapies+emaCombinationTherapies)), \" total therapies after splitting\")\n",
    "\n",
    "print(\"Removing excluded therapies\")\n",
    "exclusions = pd.read_excel('ema_exclusions.xlsx')['name']\n",
    "drugList = set(emaSingleTherapies+emaCombinationTherapies).difference(exclusions)\n",
    "print(len(drugList), \" total therapies after exclusions\")\n",
    "\n",
    "sheetData = pd.DataFrame(data=[drugList]).transpose()\n",
    "sheetData.columns = ['Drug Name']\n",
    "sheetData.to_excel(\"ema_list.xlsx\")\n"
   ]
  },
  {
   "cell_type": "code",
   "execution_count": 19,
   "id": "b3695c11-6c41-40ff-ab3a-1a1075072b19",
   "metadata": {},
   "outputs": [],
   "source": []
  },
  {
   "cell_type": "code",
   "execution_count": null,
   "id": "e828d4ff-06e0-48d3-88a0-55e7e745a795",
   "metadata": {},
   "outputs": [],
   "source": []
  }
 ],
 "metadata": {
  "kernelspec": {
   "display_name": "Python 3 (ipykernel)",
   "language": "python",
   "name": "python3"
  },
  "language_info": {
   "codemirror_mode": {
    "name": "ipython",
    "version": 3
   },
   "file_extension": ".py",
   "mimetype": "text/x-python",
   "name": "python",
   "nbconvert_exporter": "python",
   "pygments_lexer": "ipython3",
   "version": "3.11.8"
  }
 },
 "nbformat": 4,
 "nbformat_minor": 5
}
