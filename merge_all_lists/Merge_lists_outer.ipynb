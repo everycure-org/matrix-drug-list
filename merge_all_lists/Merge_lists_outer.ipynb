{
 "cells": [
  {
   "cell_type": "code",
   "execution_count": 24,
   "id": "34dff017-d064-4f48-a3be-468bb6cf534c",
   "metadata": {},
   "outputs": [],
   "source": [
    "import pandas as pd\n",
    "\n",
    "ema_frame = pd.read_excel(\"../ema_ingest/ema_list.xlsx\")\n",
    "pmda_frame = pd.read_excel(\"../pmda_ingest/pmda_list.xlsx\")\n",
    "fda_frame = pd.read_excel(\"../orange_book_ingest/fda_ob_list.xlsx\")"
   ]
  },
  {
   "cell_type": "code",
   "execution_count": 32,
   "id": "c510b7c5-19f8-4951-ab0a-596ea33dc920",
   "metadata": {},
   "outputs": [],
   "source": [
    "\n",
    "df1 = pd.merge(ema_frame, pmda_frame, on=\"single_ID\", how=\"outer\")\n",
    "df2 = pd.merge(df1, fda_frame, on=\"single_ID\", how=\"outer\")\n",
    "\n"
   ]
  },
  {
   "cell_type": "code",
   "execution_count": 34,
   "id": "8ce20134-0a30-49af-aeda-e3756f6ff19c",
   "metadata": {},
   "outputs": [],
   "source": [
    "\n",
    "df2.to_excel(\"test2.xlsx\")\n",
    "\n",
    "df2.to_csv(\"drugList.tsv\", sep='\\t')"
   ]
  },
  {
   "cell_type": "code",
   "execution_count": null,
   "id": "38b2629a-e612-4be7-9c90-c42247e61ad5",
   "metadata": {},
   "outputs": [],
   "source": []
  }
 ],
 "metadata": {
  "kernelspec": {
   "display_name": "Python 3 (ipykernel)",
   "language": "python",
   "name": "python3"
  },
  "language_info": {
   "codemirror_mode": {
    "name": "ipython",
    "version": 3
   },
   "file_extension": ".py",
   "mimetype": "text/x-python",
   "name": "python",
   "nbconvert_exporter": "python",
   "pygments_lexer": "ipython3",
   "version": "3.11.8"
  }
 },
 "nbformat": 4,
 "nbformat_minor": 5
}
